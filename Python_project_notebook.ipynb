{
 "cells": [
  {
   "cell_type": "code",
   "execution_count": 1,
   "metadata": {
    "collapsed": false
   },
   "outputs": [
    {
     "name": "stdout",
     "output_type": "stream",
     "text": [
      "/Users/Nicole/Desktop/python_bcb546/Python_assignment/pyhw-files\n"
     ]
    }
   ],
   "source": [
    "cd /Users/Nicole/desktop/python_bcb546/Python_assignment/pyhw-files"
   ]
  },
  {
   "cell_type": "code",
   "execution_count": 2,
   "metadata": {
    "collapsed": true
   },
   "outputs": [],
   "source": [
    "from Bio import SeqIO\n",
    "from Bio.Data import CodonTable\n",
    "import pandas as pd"
   ]
  },
  {
   "cell_type": "markdown",
   "metadata": {},
   "source": [
    "## Part 1: \n"
   ]
  },
  {
   "cell_type": "markdown",
   "metadata": {},
   "source": [
    "Documented the given function"
   ]
  },
  {
   "cell_type": "code",
   "execution_count": 3,
   "metadata": {
    "collapsed": true
   },
   "outputs": [],
   "source": [
    "#Overall this code creates a dictionary of species names and sequence from a fasta file\n",
    "def get_sequences_from_file(fasta_fn): # defines the function'get_sequences_from_file' for a file that is in fasta format\n",
    "    sequence_data_dict = {} # creates an empty sequence directory\n",
    "    for record in SeqIO.parse(fasta_fn, \"fasta\"): #SeqIO.parse takes a fasta file and returns a SeqRecord iterator\n",
    "        description = record.description.split() # allows you to access each part of the string by holding a record in the fasta with descriptors\n",
    "        species_name = description[1] + \" \" + description[2] # forms the species name with spaces inbetween the two parts\n",
    "        sequence_data_dict[species_name] = record.seq #species name is what you can use to access the sequence\n",
    "    return(sequence_data_dict) # put the output into the sequence directory"
   ]
  },
  {
   "cell_type": "markdown",
   "metadata": {},
   "source": [
    "Check to see if this loop worked:"
   ]
  },
  {
   "cell_type": "code",
   "execution_count": 4,
   "metadata": {
    "collapsed": false
   },
   "outputs": [
    {
     "name": "stdout",
     "output_type": "stream",
     "text": [
      "{'Ursus spelaeus': Seq('ATGACCAACATCCGAAAAACCCATCCATTAGCTAAAATCATCAACAACTCATTT...AGA', SingleLetterAlphabet()), 'Ursus arctos': Seq('ATGACCAACATCCGAAAAACCCACCCATTAGCTAAAATCATCAACAACTCACTT...AGA', SingleLetterAlphabet()), 'Ursus thibetanus': Seq('ATGACCAACATCCGAAAAACCCATCCATTAGCCAAAATCATCAACAACTCACTC...AGA', SingleLetterAlphabet()), 'Melursus ursinus': Seq('ATGACCAACATCCGAAAAACCCACCCATTAGCTAAAATCATTAACAACTCACTC...AGA', SingleLetterAlphabet()), 'Ursus americanus': Seq('ATGACCAACATCCGAAAAACCCACCCATTAGCTAAAATCATCAACAACTCACTT...AGA', SingleLetterAlphabet()), 'Helarctos malayanus': Seq('ATGACCAACATCCGAAAAACCCACCCATTAGCTAAAATCATTAACAACTCACTT...AGA', SingleLetterAlphabet()), 'Ailuropoda melanoleuca': Seq('ATGATCAACATCCGAAAAACTCATCCATTAGTTAAAATTATCAACAACTCATTC...AGA', SingleLetterAlphabet()), 'Tremarctos ornatus': Seq('ATGACCAACATCCGAAAAACTCACCCACTAGCTAAAATCATCAACAGCTCATTC...AGA', SingleLetterAlphabet()), 'Ursus maritimus': Seq('ATGACCAACATCCGAAAAACCCACCCATTAGCTAAAATCATCAACAACTCATTT...AGA', SingleLetterAlphabet())}\n"
     ]
    }
   ],
   "source": [
    "bears_fasta= get_sequences_from_file(\"bears_cytb.fasta\")\n",
    "print (bears_fasta)"
   ]
  },
  {
   "cell_type": "markdown",
   "metadata": {},
   "source": [
    "Check to see if keys are based on Species Names:"
   ]
  },
  {
   "cell_type": "code",
   "execution_count": 5,
   "metadata": {
    "collapsed": false
   },
   "outputs": [
    {
     "data": {
      "text/plain": [
       "dict_keys(['Ursus spelaeus', 'Ursus arctos', 'Ursus thibetanus', 'Melursus ursinus', 'Ursus americanus', 'Helarctos malayanus', 'Ailuropoda melanoleuca', 'Tremarctos ornatus', 'Ursus maritimus'])"
      ]
     },
     "execution_count": 5,
     "metadata": {},
     "output_type": "execute_result"
    }
   ],
   "source": [
    "bears_fasta.keys()"
   ]
  },
  {
   "cell_type": "markdown",
   "metadata": {},
   "source": [
    "## Part 2"
   ]
  },
  {
   "cell_type": "markdown",
   "metadata": {},
   "source": [
    "Created a for loop to translate a nucleotide sequence into amino acids"
   ]
  },
  {
   "cell_type": "code",
   "execution_count": 6,
   "metadata": {
    "collapsed": false
   },
   "outputs": [
    {
     "name": "stdout",
     "output_type": "stream",
     "text": [
      "Table 2 Vertebrate Mitochondrial, SGC1\n",
      "\n",
      "  |  T      |  C      |  A      |  G      |\n",
      "--+---------+---------+---------+---------+--\n",
      "T | TTT F   | TCT S   | TAT Y   | TGT C   | T\n",
      "T | TTC F   | TCC S   | TAC Y   | TGC C   | C\n",
      "T | TTA L   | TCA S   | TAA Stop| TGA W   | A\n",
      "T | TTG L   | TCG S   | TAG Stop| TGG W   | G\n",
      "--+---------+---------+---------+---------+--\n",
      "C | CTT L   | CCT P   | CAT H   | CGT R   | T\n",
      "C | CTC L   | CCC P   | CAC H   | CGC R   | C\n",
      "C | CTA L   | CCA P   | CAA Q   | CGA R   | A\n",
      "C | CTG L   | CCG P   | CAG Q   | CGG R   | G\n",
      "--+---------+---------+---------+---------+--\n",
      "A | ATT I(s)| ACT T   | AAT N   | AGT S   | T\n",
      "A | ATC I(s)| ACC T   | AAC N   | AGC S   | C\n",
      "A | ATA M(s)| ACA T   | AAA K   | AGA Stop| A\n",
      "A | ATG M(s)| ACG T   | AAG K   | AGG Stop| G\n",
      "--+---------+---------+---------+---------+--\n",
      "G | GTT V   | GCT A   | GAT D   | GGT G   | T\n",
      "G | GTC V   | GCC A   | GAC D   | GGC G   | C\n",
      "G | GTA V   | GCA A   | GAA E   | GGA G   | A\n",
      "G | GTG V(s)| GCG A   | GAG E   | GGG G   | G\n",
      "--+---------+---------+---------+---------+--\n"
     ]
    }
   ],
   "source": [
    "#Looked at codon table\n",
    "mito_table = CodonTable.unambiguous_dna_by_name [\"Vertebrate Mitochondrial\"]\n",
    "print(mito_table)"
   ]
  },
  {
   "cell_type": "code",
   "execution_count": 98,
   "metadata": {
    "collapsed": false
   },
   "outputs": [],
   "source": [
    "#This code takes a string of nucleotides, translates it into amino acids and does not include stop codons\n",
    "def translate_function(string_nucleotides): \n",
    "    mito_table = CodonTable.unambiguous_dna_by_name [\"Vertebrate Mitochondrial\"]\n",
    "    aa_seq_string = \"Vertebrate Mitochondrial\"\n",
    "    for n in range(0,len(string_nucleotides)-3, 3): \n",
    "        codon = string_nucleotides [n:n+3]\n",
    "        aa_seq_string = mito_table.forward_table[codon] + aa_seq_string\n",
    "    return(aa_seq_string)"
   ]
  },
  {
   "cell_type": "markdown",
   "metadata": {},
   "source": [
    "Check to see if loop works:"
   ]
  },
  {
   "cell_type": "code",
   "execution_count": 94,
   "metadata": {
    "collapsed": false
   },
   "outputs": [
    {
     "name": "stdout",
     "output_type": "stream",
     "text": [
      "TTTATTAATGATGGTGCTAGA\n"
     ]
    }
   ],
   "source": [
    "with open ('sample.txt') as myfile:\n",
    "    sample=myfile.read()\n",
    "print(sample)"
   ]
  },
  {
   "cell_type": "code",
   "execution_count": 95,
   "metadata": {
    "collapsed": false
   },
   "outputs": [
    {
     "data": {
      "text/plain": [
       "'AGDNIFVertebrate Mitochondrial'"
      ]
     },
     "execution_count": 95,
     "metadata": {},
     "output_type": "execute_result"
    }
   ],
   "source": [
    "translate_function(sample)"
   ]
  },
  {
   "cell_type": "markdown",
   "metadata": {},
   "source": [
    "## Part 3"
   ]
  },
  {
   "cell_type": "markdown",
   "metadata": {},
   "source": [
    "Created an alternative function to translate nucleotide sequences into amino acids using BioPython"
   ]
  },
  {
   "cell_type": "code",
   "execution_count": 54,
   "metadata": {
    "collapsed": true
   },
   "outputs": [],
   "source": [
    "#Importing necessary packages\n",
    "from Bio.Seq import Seq \n",
    "from Bio.Alphabet import IUPAC "
   ]
  },
  {
   "cell_type": "code",
   "execution_count": 55,
   "metadata": {
    "collapsed": false
   },
   "outputs": [],
   "source": [
    "#This alternative code also takes a string of nucleotides, translates it into amino acids and does not include stop codons\n",
    "#This is a much simpler version, using Bio.python\n",
    "def alternative_translate(string_nucleotides):\n",
    "    coding_dna = Seq(string_nucleotides, IUPAC.ambiguous_dna) # a variable is created with the IUPAC.ambiguous alphabet\n",
    "    return coding_dna.translate(table=\"Vertebrate Mitochondrial\", to_stop=True) # The amino acid string is returned by using the .translate in BioPython, stops at a stop codon."
   ]
  },
  {
   "cell_type": "markdown",
   "metadata": {},
   "source": [
    "Check to see if this loop works:"
   ]
  },
  {
   "cell_type": "code",
   "execution_count": 96,
   "metadata": {
    "collapsed": false
   },
   "outputs": [
    {
     "data": {
      "text/plain": [
       "Seq('FINDGA', ExtendedIUPACProtein())"
      ]
     },
     "execution_count": 96,
     "metadata": {},
     "output_type": "execute_result"
    }
   ],
   "source": [
    "alternative_translate(sample)"
   ]
  },
  {
   "cell_type": "markdown",
   "metadata": {},
   "source": [
    "## Part 4"
   ]
  },
  {
   "cell_type": "markdown",
   "metadata": {},
   "source": [
    "Created a function that calculates the proportion of each type of amino acid (charged, polar, or hydrophobic)."
   ]
  },
  {
   "cell_type": "code",
   "execution_count": 10,
   "metadata": {
    "collapsed": false
   },
   "outputs": [],
   "source": [
    "#This function defines the proportion of charged amino acids\n",
    "charged = ['R','K','D','E']\n",
    "def get_proportion_aa_charged(aa_seq, charged):\n",
    "    count = 0 #sets count at 0\n",
    "    for aa in aa_seq: \n",
    "        if aa in charged: #if the amino acid is in the charged set, count increased by one\n",
    "            count += 1\n",
    "    return count/ len(aa_seq) #returns the count over the total amino acids"
   ]
  },
  {
   "cell_type": "code",
   "execution_count": 11,
   "metadata": {
    "collapsed": false
   },
   "outputs": [],
   "source": [
    "#This function defines the proportion of polar amino acids\n",
    "polar = ['Q','N','H','S','T','Y','C','M','W']\n",
    "def get_proportion_aa_polar(aa_seq, polar):\n",
    "    count = 0\n",
    "    for aa in aa_seq:\n",
    "        if aa in polar: #if the amino acid is in the polar set, count increases by one\n",
    "            count += 1\n",
    "    return count/ len(aa_seq) #returns the count over the total amino acids"
   ]
  },
  {
   "cell_type": "code",
   "execution_count": 12,
   "metadata": {
    "collapsed": false
   },
   "outputs": [],
   "source": [
    "#This function defines the proportion of hydrophobic amino acids\n",
    "hydrophobic = ['A','I','L','F','V','P','G']\n",
    "def get_proportion_aa_hydrophobic(aa_seq, hydrophobic):\n",
    "    count = 0\n",
    "    for aa in aa_seq:\n",
    "        if aa in hydrophobic: #if the amino acid is in the hydrophobic set, cout increase by one\n",
    "            count += 1\n",
    "    return count/ len(aa_seq) #returns the count over the total amino acids"
   ]
  },
  {
   "cell_type": "code",
   "execution_count": 13,
   "metadata": {
    "collapsed": true
   },
   "outputs": [],
   "source": [
    "#created a sample to test the loop out on\n",
    "sample_a = 'AANNNDDDD'"
   ]
  },
  {
   "cell_type": "code",
   "execution_count": 14,
   "metadata": {
    "collapsed": false
   },
   "outputs": [
    {
     "name": "stdout",
     "output_type": "stream",
     "text": [
      "0.4444444444444444\n"
     ]
    }
   ],
   "source": [
    "#Tested the charged function\n",
    "charged_number = get_proportion_aa_charged(sample_a, charged) \n",
    "print(charged_number) "
   ]
  },
  {
   "cell_type": "code",
   "execution_count": 15,
   "metadata": {
    "collapsed": false
   },
   "outputs": [
    {
     "name": "stdout",
     "output_type": "stream",
     "text": [
      "0.3333333333333333\n"
     ]
    }
   ],
   "source": [
    "#Tested the polar function\n",
    "polar_number = get_proportion_aa_polar(sample_a, polar)\n",
    "print(polar_number)"
   ]
  },
  {
   "cell_type": "code",
   "execution_count": 16,
   "metadata": {
    "collapsed": false
   },
   "outputs": [
    {
     "name": "stdout",
     "output_type": "stream",
     "text": [
      "0.2222222222222222\n"
     ]
    }
   ],
   "source": [
    "#Tested the hydrophobic function\n",
    "hydrophobic_number = get_proportion_aa_hydrophobic(sample_a, hydrophobic)\n",
    "print(hydrophobic_number)"
   ]
  },
  {
   "cell_type": "markdown",
   "metadata": {},
   "source": [
    "## Part 5"
   ]
  },
  {
   "cell_type": "markdown",
   "metadata": {},
   "source": [
    "Created a combined function that both translates nucleotide sequences into amino acids and sorts them by type (polar, charged, and hydrophobic)."
   ]
  },
  {
   "cell_type": "code",
   "execution_count": 64,
   "metadata": {
    "collapsed": true
   },
   "outputs": [],
   "source": [
    "#Ran part 1 function on the given fasta file\n",
    "cytb_seqs = get_sequences_from_file(\"bears_cytb.fasta\") "
   ]
  },
  {
   "cell_type": "code",
   "execution_count": 65,
   "metadata": {
    "collapsed": true
   },
   "outputs": [],
   "source": [
    "bear_df = pd.read_csv(\"bears_data.csv\")\n",
    "counter = 0 #set counter to zero"
   ]
  },
  {
   "cell_type": "code",
   "execution_count": 66,
   "metadata": {
    "collapsed": false,
    "scrolled": true
   },
   "outputs": [
    {
     "name": "stdout",
     "output_type": "stream",
     "text": [
      "                  species     mass  charged  polar  hydrophobic\n",
      "0          Ursus spelaeus  550.800      NaN    NaN          NaN\n",
      "1            Ursus arctos  203.500      NaN    NaN          NaN\n",
      "2        Ursus thibetanus   99.714      NaN    NaN          NaN\n",
      "3        Melursus ursinus  100.030      NaN    NaN          NaN\n",
      "4        Ursus americanus  110.560      NaN    NaN          NaN\n",
      "5     Helarctos malayanus   47.020      NaN    NaN          NaN\n",
      "6  Ailuropoda melanoleuca  118.200      NaN    NaN          NaN\n",
      "7      Tremarctos ornatus  140.700      NaN    NaN          NaN\n",
      "8         Ursus maritimus  425.100      NaN    NaN          NaN\n"
     ]
    }
   ],
   "source": [
    "species_list = list(bear_df.species) #showed what is currently in the file\n",
    "print (bear_df)"
   ]
  },
  {
   "cell_type": "code",
   "execution_count": 69,
   "metadata": {
    "collapsed": true
   },
   "outputs": [],
   "source": [
    "def combined_function(x, sample_dict): #defines function that translates the file and gets the proportion of charged, polar, and hydrophobic amino acids\n",
    "    translate = alternative_translate (str(sample_dict[x])) #uses the function from part 3 to read the sequence as a string\n",
    "    proportion_charged = get_proportion_aa_charged(translate, charged) #translates the amino acids and calculates proportion of charged aa\n",
    "    proportion_polar = get_proportion_aa_polar(translate, polar) #translates the amino acids and calculates proportion of polar aa\n",
    "    proportion_hydrophobic = get_proportion_aa_hydrophobic(translate, hydrophobic) #translates amino acids and calculates the proportion of hydrophobic aa\n",
    "    return proportion_charged, proportion_polar, proportion_hydrophobic #adds the columns proportion charged, proportion polar and proportion hydrophobic as output"
   ]
  },
  {
   "cell_type": "code",
   "execution_count": 70,
   "metadata": {
    "collapsed": false
   },
   "outputs": [],
   "source": [
    "bear_df[['proportion_charged', 'proportion_polar', 'proportion_hydrophobic']] = bear_df.apply(lambda row: pd.Series(combined_function(row['species'], cytb_seqs)), axis = 1)#applies the above to bear_df, creating 3 new coloums with the proportion of each type of amino acids"
   ]
  },
  {
   "cell_type": "code",
   "execution_count": 58,
   "metadata": {
    "collapsed": false
   },
   "outputs": [
    {
     "name": "stdout",
     "output_type": "stream",
     "text": [
      "                  species     mass  charged  polar  hydrophobic  \\\n",
      "0          Ursus spelaeus  550.800      NaN    NaN          NaN   \n",
      "1            Ursus arctos  203.500      NaN    NaN          NaN   \n",
      "2        Ursus thibetanus   99.714      NaN    NaN          NaN   \n",
      "3        Melursus ursinus  100.030      NaN    NaN          NaN   \n",
      "4        Ursus americanus  110.560      NaN    NaN          NaN   \n",
      "5     Helarctos malayanus   47.020      NaN    NaN          NaN   \n",
      "6  Ailuropoda melanoleuca  118.200      NaN    NaN          NaN   \n",
      "7      Tremarctos ornatus  140.700      NaN    NaN          NaN   \n",
      "8         Ursus maritimus  425.100      NaN    NaN          NaN   \n",
      "\n",
      "   proportion_charged  proportion_polar  proportion_hydrophobic  \n",
      "0            0.092348          0.329815                0.577836  \n",
      "1            0.092348          0.324538                0.583113  \n",
      "2            0.092348          0.327177                0.580475  \n",
      "3            0.089710          0.340369                0.569921  \n",
      "4            0.089710          0.337731                0.572559  \n",
      "5            0.092348          0.340369                0.567282  \n",
      "6            0.089710          0.343008                0.567282  \n",
      "7            0.089710          0.335092                0.575198  \n",
      "8            0.092348          0.327177                0.580475  \n"
     ]
    }
   ],
   "source": [
    "print(bear_df)"
   ]
  },
  {
   "cell_type": "markdown",
   "metadata": {
    "collapsed": true
   },
   "source": [
    "## Part 6"
   ]
  },
  {
   "cell_type": "markdown",
   "metadata": {},
   "source": [
    "Made a bar graph of the data, comparing species weight."
   ]
  },
  {
   "cell_type": "code",
   "execution_count": 36,
   "metadata": {
    "collapsed": true
   },
   "outputs": [],
   "source": [
    "%matplotlib inline\n",
    "from ggplot import * #imports ggplot to look at the data"
   ]
  },
  {
   "cell_type": "code",
   "execution_count": 59,
   "metadata": {
    "collapsed": false
   },
   "outputs": [
    {
     "name": "stdout",
     "output_type": "stream",
     "text": [
      "                  species     mass  charged  polar  hydrophobic  \\\n",
      "0          Ursus spelaeus  550.800      NaN    NaN          NaN   \n",
      "1            Ursus arctos  203.500      NaN    NaN          NaN   \n",
      "2        Ursus thibetanus   99.714      NaN    NaN          NaN   \n",
      "3        Melursus ursinus  100.030      NaN    NaN          NaN   \n",
      "4        Ursus americanus  110.560      NaN    NaN          NaN   \n",
      "5     Helarctos malayanus   47.020      NaN    NaN          NaN   \n",
      "6  Ailuropoda melanoleuca  118.200      NaN    NaN          NaN   \n",
      "7      Tremarctos ornatus  140.700      NaN    NaN          NaN   \n",
      "8         Ursus maritimus  425.100      NaN    NaN          NaN   \n",
      "\n",
      "   proportion_charged  proportion_polar  proportion_hydrophobic  \n",
      "0            0.092348          0.329815                0.577836  \n",
      "1            0.092348          0.324538                0.583113  \n",
      "2            0.092348          0.327177                0.580475  \n",
      "3            0.089710          0.340369                0.569921  \n",
      "4            0.089710          0.337731                0.572559  \n",
      "5            0.092348          0.340369                0.567282  \n",
      "6            0.089710          0.343008                0.567282  \n",
      "7            0.089710          0.335092                0.575198  \n",
      "8            0.092348          0.327177                0.580475  \n"
     ]
    }
   ],
   "source": [
    "print(bear_df)"
   ]
  },
  {
   "cell_type": "code",
   "execution_count": 101,
   "metadata": {
    "collapsed": false
   },
   "outputs": [
    {
     "data": {
      "text/plain": [
       "<matplotlib.text.Text at 0x11c3915f8>"
      ]
     },
     "execution_count": 101,
     "metadata": {},
     "output_type": "execute_result"
    },
    {
     "data": {
      "image/png": "[encoded data removed]",
      "text/plain": [
       "<matplotlib.figure.Figure at 0x11c4833c8>"
      ]
     },
     "metadata": {},
     "output_type": "display_data"
    }
   ],
   "source": [
    "bear_weight = bear_df.plot(x = 'species', y = 'mass', kind='bar', legend = False, title = \"Bar Chart of Species Weight\")#plots a bar graph of weight on y axis, bear species on x, the bars representing mass of bear.\n",
    "bear_weight.set_xlabel(\"Species ID\") #creates a x axis label\n",
    "bear_weight.set_ylabel(\"Weight\") #creates a y axis label"
   ]
  },
  {
   "cell_type": "markdown",
   "metadata": {},
   "source": [
    "Ursus spelaeus is the bear that weighs the most. It is interesting because it is known as the 'cave bear' and there were so many that in World War I the German army used them as a source of phosphates."
   ]
  },
  {
   "cell_type": "markdown",
   "metadata": {},
   "source": [
    "## Part 7"
   ]
  },
  {
   "cell_type": "markdown",
   "metadata": {},
   "source": [
    "Created a graph based on how many of each type of amino acid each bear species has."
   ]
  },
  {
   "cell_type": "code",
   "execution_count": 71,
   "metadata": {
    "collapsed": false
   },
   "outputs": [
    {
     "name": "stdout",
     "output_type": "stream",
     "text": [
      "                  species  proportion_charged  proportion_polar  \\\n",
      "0          Ursus spelaeus            0.092348          0.329815   \n",
      "1            Ursus arctos            0.092348          0.324538   \n",
      "2        Ursus thibetanus            0.092348          0.327177   \n",
      "3        Melursus ursinus            0.089710          0.340369   \n",
      "4        Ursus americanus            0.089710          0.337731   \n",
      "5     Helarctos malayanus            0.092348          0.340369   \n",
      "6  Ailuropoda melanoleuca            0.089710          0.343008   \n",
      "7      Tremarctos ornatus            0.089710          0.335092   \n",
      "8         Ursus maritimus            0.092348          0.327177   \n",
      "\n",
      "   proportion_hydrophobic  \n",
      "0                0.577836  \n",
      "1                0.583113  \n",
      "2                0.580475  \n",
      "3                0.569921  \n",
      "4                0.572559  \n",
      "5                0.567282  \n",
      "6                0.567282  \n",
      "7                0.575198  \n",
      "8                0.580475  \n"
     ]
    }
   ],
   "source": [
    "bear_no_mass = bear_df[['species', 'proportion_charged', 'proportion_polar', 'proportion_hydrophobic']]#shows bears data without masses of bears\n",
    "print(bear_no_mass)"
   ]
  },
  {
   "cell_type": "code",
   "execution_count": 99,
   "metadata": {
    "collapsed": false
   },
   "outputs": [
    {
     "data": {
      "text/plain": [
       "<matplotlib.text.Text at 0x11bf14d30>"
      ]
     },
     "execution_count": 99,
     "metadata": {},
     "output_type": "execute_result"
    },
    {
     "data": {
      "image/png": "[encoded data removed]",
      "text/plain": [
       "<matplotlib.figure.Figure at 0x11be47860>"
      ]
     },
     "metadata": {},
     "output_type": "display_data"
    }
   ],
   "source": [
    "pandas_plot = bear_no_mass.plot(x = 'species', kind='bar',stacked=True,title=\"Proportion of Type of Amino Acid by Species\")#creates a bar graph with the bars colored by what type of amino acid/ amount of each type the species has\n",
    "pandas_plot.set_ylabel(\"Proportion\") #labels y axis\n",
    "pandas_plot.set_xlabel(\"Species\") #lables x axis"
   ]
  },
  {
   "cell_type": "markdown",
   "metadata": {},
   "source": [
    "This data shows that cytochrome_b is coposed of mainly hycrophobic regions.\n",
    "It also shows that the proportions are similar throughout all of the species of bears, which suggests that cytochrom_b is conserved throughout the species. "
   ]
  },
  {
   "cell_type": "markdown",
   "metadata": {},
   "source": [
    "## Part 8"
   ]
  },
  {
   "cell_type": "markdown",
   "metadata": {},
   "source": [
    "Saved the file created in the previous step as a .csv"
   ]
  },
  {
   "cell_type": "code",
   "execution_count": 63,
   "metadata": {
    "collapsed": true
   },
   "outputs": [],
   "source": [
    "#creates a new file with the data that was created in this notebook\n",
    "bear_df.to_csv('bears_mass_cytb.csv', index=False)"
   ]
  }
 ],
 "metadata": {
  "kernelspec": {
   "display_name": "Python 3",
   "language": "python",
   "name": "python3"
  },
  "language_info": {
   "codemirror_mode": {
    "name": "ipython",
    "version": 3
   },
   "file_extension": ".py",
   "mimetype": "text/x-python",
   "name": "python",
   "nbconvert_exporter": "python",
   "pygments_lexer": "ipython3",
   "version": "3.6.0"
  }
 },
 "nbformat": 4,
 "nbformat_minor": 2
}
